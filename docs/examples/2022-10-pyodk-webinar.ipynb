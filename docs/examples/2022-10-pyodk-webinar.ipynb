{
 "cells": [
  {
   "cell_type": "markdown",
   "id": "263bd37f-6d71-418b-a349-cddde21c5039",
   "metadata": {
    "tags": []
   },
   "source": [
    "# Automating data analysis and workflows with pyODK\n",
    "by Hélène Martin on October 19th, 2022\n",
    "\n",
    "* [Slides](https://docs.google.com/presentation/d/1oJdAdmeCIsGTp9083vAS-c5S5rnaO7e3pxzfFYe9-UI/edit#slide=id.g16c4e809b19_0_0)\n",
    "* [Recording](https://youtu.be/sIaquyz5bP8) (demo starts [here](https://www.youtube.com/watch?v=sIaquyz5bP8&t=1024s))\n",
    "* [Participants survey XLSForm](https://docs.google.com/spreadsheets/d/1Sx3N81R2d240WgntS73FcXfGvo-Gr7kKKcn2SCTmsVY/edit#gid=339912049)\n",
    "\n",
    "[Jupyter Lab](https://jupyter.org/) is an interactive computing environment used in this session. This file is a Jupyter Notebook which can be opened and edited in many platforms including Jupyter Lab. Even Github knows how to show Jupyter Notebooks! When you first open a notebook or if you see it in a view-only platform like Github, the output shown is static, saved from the last run.\n",
    "\n",
    "If you have any questions or comments, please share them on [the forum](https://forum.getodk.org/c/community/12).\n",
    "\n",
    "Since many are new to Python and to Jupyter Lab, we started with [Hello, world!](https://en.wikipedia.org/wiki/%22Hello,_World!%22_program) "
   ]
  },
  {
   "cell_type": "code",
   "execution_count": 1,
   "id": "190d23af-5050-46a5-9a1c-6b724a46f490",
   "metadata": {},
   "outputs": [
    {
     "name": "stdout",
     "output_type": "stream",
     "text": [
      "Hello, world!\n"
     ]
    }
   ],
   "source": [
    "print(\"Hello, world!\")"
   ]
  },
  {
   "cell_type": "markdown",
   "id": "20ae4416-3e0c-49a8-a172-4c8529ad1e72",
   "metadata": {},
   "source": [
    "## Configuring `pyodk` and calling library methods\n",
    "\n",
    "We looked at how to build a [`pyodk` client](https://github.com/getodk/pyodk#configuration) and make our first request to the ODK Central backend. This client used Hélène's configuration in her home directory. The credentials she entered have access to three projects that we can list using the `pyodk` client's `list` method in the `projects` accessor. In `pyodk`, functionality is organized according to the resource (projects, forms, submissions) that they act on.\n",
    "\n",
    "If you create your own `.pyodk_config.toml` in your home directory and run the cell below, you will see the projects that your credentials have access to."
   ]
  },
  {
   "cell_type": "code",
   "execution_count": 42,
   "id": "e681943f-46c2-498c-bfab-a6ae4f36d36a",
   "metadata": {},
   "outputs": [
    {
     "data": {
      "text/plain": [
       "[Project(id=38, name='Hélène encrypted', createdAt=datetime.datetime(2021, 4, 26, 18, 36, 51, 785000, tzinfo=datetime.timezone.utc), description=None, archived=None, keyId=19, appUsers=None, forms=None, lastSubmission=None, updatedAt=datetime.datetime(2021, 4, 26, 18, 37, 13, 924000, tzinfo=datetime.timezone.utc), deletedAt=None),\n",
       " Project(id=4, name='Impact++', createdAt=datetime.datetime(2021, 1, 31, 21, 52, 30, 606000, tzinfo=datetime.timezone.utc), description=None, archived=None, keyId=None, appUsers=None, forms=None, lastSubmission=None, updatedAt=datetime.datetime(2022, 3, 9, 0, 55, 21, 658000, tzinfo=datetime.timezone.utc), deletedAt=None),\n",
       " Project(id=52, name='pyODK webinar', createdAt=datetime.datetime(2022, 10, 18, 16, 17, 33, 980000, tzinfo=datetime.timezone.utc), description='For Oct 19 session on pyODK.', archived=None, keyId=None, appUsers=None, forms=None, lastSubmission=None, updatedAt=datetime.datetime(2022, 10, 19, 4, 42, 1, 824000, tzinfo=datetime.timezone.utc), deletedAt=None)]"
      ]
     },
     "execution_count": 42,
     "metadata": {},
     "output_type": "execute_result"
    }
   ],
   "source": [
    "from pyodk.client import Client\n",
    "\n",
    "client = Client()\n",
    "client.open()\n",
    "client.projects.list()"
   ]
  },
  {
   "cell_type": "markdown",
   "id": "62c7181a-fd09-4fdc-9ab8-8ba34dfdfa2f",
   "metadata": {
    "tags": []
   },
   "source": [
    "This looks a bit magical! We also wrote a `config.toml` file together and explicitly built a client using that configuration. We specified a cache path as well so that credentials for this configuration get saved separately from those for the client we created above.\n",
    "\n",
    "We can use multiple clients that connect to multiple servers or use different credentials on the same server in the same program."
   ]
  },
  {
   "cell_type": "code",
   "execution_count": 4,
   "id": "295537d6-af44-48b2-b70e-d74efce8aa40",
   "metadata": {},
   "outputs": [
    {
     "data": {
      "text/plain": [
       "[Project(id=52, name='pyODK webinar', createdAt=datetime.datetime(2022, 10, 18, 16, 17, 33, 980000, tzinfo=datetime.timezone.utc), description='For Oct 19 session on pyODK.', archived=None, keyId=None, appUsers=None, forms=None, lastSubmission=None, updatedAt=datetime.datetime(2022, 10, 19, 4, 42, 1, 824000, tzinfo=datetime.timezone.utc), deletedAt=None)]"
      ]
     },
     "execution_count": 4,
     "metadata": {},
     "output_type": "execute_result"
    }
   ],
   "source": [
    "viewer_client = Client(config_path=\"config.toml\", cache_path=\"cache.toml\")\n",
    "viewer_client.open()\n",
    "viewer_client.projects.list()"
   ]
  },
  {
   "cell_type": "markdown",
   "id": "31127ae9-445b-46e0-bc66-7cd2f7e1d989",
   "metadata": {},
   "source": [
    "We can list any type of resource. We get back a list of Python objects with appropriately-typed fields. These objects provide access to the resource metadata."
   ]
  },
  {
   "cell_type": "code",
   "execution_count": 5,
   "id": "6c19ee4b-678c-4805-bb4a-78ad359c7200",
   "metadata": {},
   "outputs": [
    {
     "data": {
      "text/plain": [
       "[Form(projectId=52, xmlFormId='foods', name='Favorite foods', version='2022102202', enketoId='DWTgFxdpHhMatjKjFPtAg7pRnvzwMnM', hash='3a0b4f0dc731adca7e6683b1081b8686', state='open', createdAt=datetime.datetime(2022, 10, 19, 5, 34, 26, 659000, tzinfo=datetime.timezone.utc), keyId=None, updatedAt=datetime.datetime(2022, 10, 19, 5, 45, 47, 999000, tzinfo=datetime.timezone.utc), publishedAt=datetime.datetime(2022, 10, 19, 5, 45, 47, 997000, tzinfo=datetime.timezone.utc)),\n",
       " Form(projectId=52, xmlFormId='participants', name='pyODK webinar participant survey', version='2022101802', enketoId='pfRYfxj0bOmGyCZnaZ0umsk0AsunD6N', hash='521961ede019cc24ceed078905506fea', state='open', createdAt=datetime.datetime(2022, 10, 19, 4, 39, 46, 62000, tzinfo=datetime.timezone.utc), keyId=None, updatedAt=datetime.datetime(2022, 10, 19, 4, 42, 1, 834000, tzinfo=datetime.timezone.utc), publishedAt=datetime.datetime(2022, 10, 19, 4, 40, 59, 355000, tzinfo=datetime.timezone.utc)),\n",
       " Form(projectId=52, xmlFormId='simple_repeat', name='simple_repeat', version='2022101001', enketoId='qlPrrhsIjqPdT5FnsLVDdh3nBFAszaW', hash='8bd777cb7b66660beafc034eee16b09b', state='open', createdAt=datetime.datetime(2022, 10, 18, 20, 49, 53, 997000, tzinfo=datetime.timezone.utc), keyId=None, updatedAt=datetime.datetime(2022, 10, 19, 4, 42, 1, 842000, tzinfo=datetime.timezone.utc), publishedAt=datetime.datetime(2022, 10, 18, 20, 49, 58, 484000, tzinfo=datetime.timezone.utc))]"
      ]
     },
     "execution_count": 5,
     "metadata": {},
     "output_type": "execute_result"
    }
   ],
   "source": [
    "client.forms.list()"
   ]
  },
  {
   "cell_type": "markdown",
   "id": "3309a380-501e-477c-9898-e2abba8994ec",
   "metadata": {},
   "source": [
    "## Learning more about available functionality\n",
    "We listed submissions as well. For these notes we've commented out the call with a `#` because there are a lot of submissions!\n",
    "\n",
    "To learn more about the functionality available for each resource type in Jupyter Lab (and most development environments), we can type the name of our client followed by the name of the resource, add a period and then use the tab key to see what is available. For example, to learn more about methods available for submissions, we would type `client.submissions.` and then a tab.\n",
    "\n",
    "We can also learn more about a specific method by typing its name (or selecting it from the suggestions given as above) and then typing SHIFT+TAB."
   ]
  },
  {
   "cell_type": "code",
   "execution_count": null,
   "id": "2c602998-1815-4e70-8cfc-3cfdd0f798f8",
   "metadata": {},
   "outputs": [],
   "source": [
    "# client.submissions.list(form_id='participants')"
   ]
  },
  {
   "cell_type": "markdown",
   "id": "d6aa08e3-7e44-4171-8232-bb9afe87e000",
   "metadata": {},
   "source": [
    "Listing submissions gives us a list of objects representing submission metadata. There's a lot we can do with that but typically what we really want is the submission content."
   ]
  },
  {
   "cell_type": "markdown",
   "id": "b29d7aa2-c266-44b2-822e-07b6db714fd2",
   "metadata": {},
   "source": [
    "## Getting submission data into pandas"
   ]
  },
  {
   "cell_type": "markdown",
   "id": "6487550e-7460-4eeb-8c00-a5f3c0764128",
   "metadata": {},
   "source": [
    "We can get our submission data by using the `get_table` method. This will give us back our data as JSON in a top-level `value` key (for the OData standard). We could use this directly but it's even more convenient to get it into [`pandas`](https://pandas.pydata.org/), a Python library for data manipulation and analysis.\n",
    "\n",
    "Some good resources for learning about `pandas` and using Python for data analysis and manipulation are:\n",
    "- [The `pandas` Getting Started guide](https://pandas.pydata.org/docs/getting_started/index.html) - great tutorials on focused topics\n",
    "- [Kaggle](https://www.kaggle.com/learn/pandas) - well-structured longer tutorials with exercises to check your understanding\n",
    "\n",
    "There are also large numbers of courses through Udemy, EdX, etc, some of which provide certificates.\n",
    "\n",
    "`pyodk` helps build a bridge into `pandas` directly from ODK Central so that we don't have to manage versioning of our dataset and can use Central as the ultimate source of truth. This is helpful for monitoring data as it comes in and should work smoothly for over a million indicators (submission count times field count). With large submission sets, we will be limited by our Internet connection and server RAM and CPU.\n",
    "\n",
    "Once we're in `pandas`, there's nothing special about ODK data! Note that we can also use all of these techniques on a CSV export from Central.\n",
    "\n",
    "`get_table` has several parameters that can be passed into it to do things like filter the submissions we request. Use SHIFT+TAB as described above to see what they are."
   ]
  },
  {
   "cell_type": "code",
   "execution_count": 43,
   "id": "e5ebd5f4-84e4-4540-a8e7-0fd8479aa444",
   "metadata": {},
   "outputs": [
    {
     "data": {
      "text/html": [
       "<div>\n",
       "<style scoped>\n",
       "    .dataframe tbody tr th:only-of-type {\n",
       "        vertical-align: middle;\n",
       "    }\n",
       "\n",
       "    .dataframe tbody tr th {\n",
       "        vertical-align: top;\n",
       "    }\n",
       "\n",
       "    .dataframe thead th {\n",
       "        text-align: right;\n",
       "    }\n",
       "</style>\n",
       "<table border=\"1\" class=\"dataframe\">\n",
       "  <thead>\n",
       "    <tr style=\"text-align: right;\">\n",
       "      <th></th>\n",
       "      <th>__id</th>\n",
       "      <th>note_welcome</th>\n",
       "      <th>height_units</th>\n",
       "      <th>height_feet</th>\n",
       "      <th>height_meters</th>\n",
       "      <th>height</th>\n",
       "      <th>note_height_meters</th>\n",
       "      <th>pets</th>\n",
       "      <th>book</th>\n",
       "      <th>liked-type</th>\n",
       "      <th>...</th>\n",
       "      <th>__system-updatedAt</th>\n",
       "      <th>__system-submitterId</th>\n",
       "      <th>__system-submitterName</th>\n",
       "      <th>__system-attachmentsPresent</th>\n",
       "      <th>__system-attachmentsExpected</th>\n",
       "      <th>__system-status</th>\n",
       "      <th>__system-reviewState</th>\n",
       "      <th>__system-deviceId</th>\n",
       "      <th>__system-edits</th>\n",
       "      <th>__system-formVersion</th>\n",
       "    </tr>\n",
       "  </thead>\n",
       "  <tbody>\n",
       "    <tr>\n",
       "      <th>0</th>\n",
       "      <td>uuid:670fa9de-9191-4968-a08e-1aba8061d0e0</td>\n",
       "      <td>None</td>\n",
       "      <td>ft</td>\n",
       "      <td>7.99</td>\n",
       "      <td>NaN</td>\n",
       "      <td>2.43</td>\n",
       "      <td>None</td>\n",
       "      <td>n</td>\n",
       "      <td>3</td>\n",
       "      <td>Point</td>\n",
       "      <td>...</td>\n",
       "      <td>None</td>\n",
       "      <td>711</td>\n",
       "      <td>Participant</td>\n",
       "      <td>0</td>\n",
       "      <td>0</td>\n",
       "      <td>None</td>\n",
       "      <td>None</td>\n",
       "      <td>None</td>\n",
       "      <td>0</td>\n",
       "      <td>2022101802</td>\n",
       "    </tr>\n",
       "    <tr>\n",
       "      <th>1</th>\n",
       "      <td>uuid:afe70664-6670-4ff1-8efc-a23eb0c6ec89</td>\n",
       "      <td>None</td>\n",
       "      <td>ft</td>\n",
       "      <td>3.01</td>\n",
       "      <td>NaN</td>\n",
       "      <td>0.92</td>\n",
       "      <td>None</td>\n",
       "      <td>y</td>\n",
       "      <td>Mr Muscle</td>\n",
       "      <td>Point</td>\n",
       "      <td>...</td>\n",
       "      <td>None</td>\n",
       "      <td>711</td>\n",
       "      <td>Participant</td>\n",
       "      <td>0</td>\n",
       "      <td>0</td>\n",
       "      <td>None</td>\n",
       "      <td>None</td>\n",
       "      <td>None</td>\n",
       "      <td>0</td>\n",
       "      <td>2022101802</td>\n",
       "    </tr>\n",
       "    <tr>\n",
       "      <th>2</th>\n",
       "      <td>uuid:f75e9730-89d8-407d-ba2a-9990ce90233f</td>\n",
       "      <td>None</td>\n",
       "      <td>m</td>\n",
       "      <td>NaN</td>\n",
       "      <td>1.89</td>\n",
       "      <td>1.89</td>\n",
       "      <td>None</td>\n",
       "      <td>n</td>\n",
       "      <td>Gamba</td>\n",
       "      <td>Point</td>\n",
       "      <td>...</td>\n",
       "      <td>None</td>\n",
       "      <td>711</td>\n",
       "      <td>Participant</td>\n",
       "      <td>0</td>\n",
       "      <td>0</td>\n",
       "      <td>None</td>\n",
       "      <td>None</td>\n",
       "      <td>None</td>\n",
       "      <td>0</td>\n",
       "      <td>2022101802</td>\n",
       "    </tr>\n",
       "  </tbody>\n",
       "</table>\n",
       "<p>3 rows × 24 columns</p>\n",
       "</div>"
      ],
      "text/plain": [
       "                                        __id note_welcome height_units  \\\n",
       "0  uuid:670fa9de-9191-4968-a08e-1aba8061d0e0         None           ft   \n",
       "1  uuid:afe70664-6670-4ff1-8efc-a23eb0c6ec89         None           ft   \n",
       "2  uuid:f75e9730-89d8-407d-ba2a-9990ce90233f         None            m   \n",
       "\n",
       "   height_feet  height_meters  height note_height_meters pets       book  \\\n",
       "0         7.99            NaN    2.43               None    n          3   \n",
       "1         3.01            NaN    0.92               None    y  Mr Muscle   \n",
       "2          NaN           1.89    1.89               None    n      Gamba   \n",
       "\n",
       "  liked-type  ... __system-updatedAt  __system-submitterId  \\\n",
       "0      Point  ...               None                   711   \n",
       "1      Point  ...               None                   711   \n",
       "2      Point  ...               None                   711   \n",
       "\n",
       "  __system-submitterName __system-attachmentsPresent  \\\n",
       "0            Participant                           0   \n",
       "1            Participant                           0   \n",
       "2            Participant                           0   \n",
       "\n",
       "  __system-attachmentsExpected __system-status __system-reviewState  \\\n",
       "0                            0            None                 None   \n",
       "1                            0            None                 None   \n",
       "2                            0            None                 None   \n",
       "\n",
       "   __system-deviceId  __system-edits __system-formVersion  \n",
       "0               None               0           2022101802  \n",
       "1               None               0           2022101802  \n",
       "2               None               0           2022101802  \n",
       "\n",
       "[3 rows x 24 columns]"
      ]
     },
     "execution_count": 43,
     "metadata": {},
     "output_type": "execute_result"
    }
   ],
   "source": [
    "json = client.submissions.get_table(form_id='participants')['value']\n",
    "\n",
    "import pandas as pd\n",
    "df = pd.json_normalize(json, sep='-')\n",
    "df.head(3)"
   ]
  },
  {
   "cell_type": "markdown",
   "id": "a0d45e54-4a4c-43f1-9470-376578986b28",
   "metadata": {},
   "source": [
    "Once our data is in `pandas`, we have access to powerful data cleaning and analysis tools.\n",
    "\n",
    "We looked at quick ways to make plots:"
   ]
  },
  {
   "cell_type": "code",
   "execution_count": 55,
   "id": "4ca7ed21-06d6-41b0-bd5f-34debc61a8d8",
   "metadata": {},
   "outputs": [
    {
     "data": {
      "text/plain": [
       "<AxesSubplot:ylabel='pets'>"
      ]
     },
     "execution_count": 55,
     "metadata": {},
     "output_type": "execute_result"
    },
    {
     "data": {
      "image/png": "[encoded data removed]",
      "text/plain": [
       "<Figure size 432x288 with 1 Axes>"
      ]
     },
     "metadata": {},
     "output_type": "display_data"
    }
   ],
   "source": [
    "df.pets.value_counts().plot(kind='pie')"
   ]
  },
  {
   "cell_type": "markdown",
   "id": "a4afa6e0-a0e4-4430-ab16-7cb240448080",
   "metadata": {},
   "source": [
    "We also plotted the pets column and noticed that it has the exact same shape! Are the two correlated?"
   ]
  },
  {
   "cell_type": "code",
   "execution_count": 52,
   "id": "0501cc6d-4779-4b41-8bf4-0d5a7cc22531",
   "metadata": {},
   "outputs": [
    {
     "data": {
      "text/plain": [
       "-0.4035087719298247"
      ]
     },
     "execution_count": 52,
     "metadata": {},
     "output_type": "execute_result"
    }
   ],
   "source": [
    "df['height_code'] = df.height_units.astype('category').cat.codes\n",
    "df['pets_code'] = df.pets.astype('category').cat.codes\n",
    "df.pets_code.corr(df.height_code)"
   ]
  },
  {
   "cell_type": "markdown",
   "id": "370639f5-8635-4954-b54b-9678bdab4037",
   "metadata": {},
   "source": [
    "No, that's a pretty weak correlation so it's really a coincidence that the number of people who prefer `meters` is the same as the number of people who don't have pets. Too bad, I had made up a whole story in my head about Americans and pets.\n",
    "\n",
    "Anyway, hopefully this illustrates that it's relatively quick and fun to explore data in this way.\n",
    "\n",
    "`pandas` can also give us a really nice standard summary of numeric columns:"
   ]
  },
  {
   "cell_type": "code",
   "execution_count": 15,
   "id": "94fa3080-4493-4312-a9ee-e86e82a691a0",
   "metadata": {},
   "outputs": [
    {
     "data": {
      "text/plain": [
       "count    34.000000\n",
       "mean      1.747941\n",
       "std       0.211914\n",
       "min       0.920000\n",
       "25%       1.700000\n",
       "50%       1.760000\n",
       "75%       1.820000\n",
       "max       2.430000\n",
       "Name: height, dtype: float64"
      ]
     },
     "execution_count": 15,
     "metadata": {},
     "output_type": "execute_result"
    }
   ],
   "source": [
    "df.height.describe()"
   ]
  },
  {
   "cell_type": "markdown",
   "id": "6bd23a15-1ff3-4403-b78f-76a9fc4533b0",
   "metadata": {},
   "source": [
    "And we can do analysis on metadata as well as customize the plots:"
   ]
  },
  {
   "cell_type": "code",
   "execution_count": 45,
   "id": "4e5e5255-f5d7-471a-a7ad-6ce21fd8b1ce",
   "metadata": {},
   "outputs": [
    {
     "data": {
      "text/plain": [
       "<AxesSubplot:>"
      ]
     },
     "execution_count": 45,
     "metadata": {},
     "output_type": "execute_result"
    },
    {
     "data": {
      "image/png": "[encoded data removed]",
      "text/plain": [
       "<Figure size 432x288 with 1 Axes>"
      ]
     },
     "metadata": {
      "needs_background": "light"
     },
     "output_type": "display_data"
    }
   ],
   "source": [
    "df['__system-submitterName'].value_counts().plot(kind='bar', rot=45)"
   ]
  },
  {
   "cell_type": "markdown",
   "id": "f908c5e5-47db-49dd-aff6-91a665c9627d",
   "metadata": {},
   "source": [
    "The examples above focus on analysis. We can also manipulate the data to clean it. For example, if we prefix all notes in our XLSForm with `note_`, we can remove them from the data table in a single step:"
   ]
  },
  {
   "cell_type": "code",
   "execution_count": 58,
   "id": "3f62ffc7-97f0-4b24-b8e7-1d71dc6b7ff7",
   "metadata": {},
   "outputs": [],
   "source": [
    "df = df.drop(df.filter(regex = 'note_'), axis = 1)"
   ]
  },
  {
   "cell_type": "markdown",
   "id": "63bda030-9c28-4130-be5c-f106c4313c65",
   "metadata": {},
   "source": [
    "## Analyzing data from forms with repeats\n",
    "\n",
    "We quickly went through an example of joining repeat data to the base form data. You can see the example worked in more detail [here](https://github.com/getodk/pyodk/blob/master/examples/working-with-repeats.ipynb)."
   ]
  },
  {
   "cell_type": "markdown",
   "id": "5369ff35-554d-4b5c-9d45-5c1f950ff20c",
   "metadata": {},
   "source": [
    "## Using HTTP verb methods to make direct calls to the API\n",
    "\n",
    "Our goal is to make many common workflow automation tasks directly available in `pyodk` as nice library methods. We haven't implemented most of those yet, though. You can still access the full Central API with the convenience of a configured `pyodk` client by using HTTP verb methods on your `Client` object.\n",
    "\n",
    "We briefly looked at how to use the [Central API docs](https://odkcentral.docs.apiary.io/) to make the right calls. You can see a worked example [here](https://github.com/getodk/pyodk/blob/master/examples/beyond-library-methods.ipynb).\n",
    "\n",
    "There's also a longer sample script [here](https://github.com/getodk/pyodk/blob/master/examples/app_user_provisioner.py) that shows provisioning App Users from a file of names and generating custom QR codes for each of them."
   ]
  }
 ],
 "metadata": {
  "kernelspec": {
   "display_name": "Python 3 (ipykernel)",
   "language": "python",
   "name": "python3"
  },
  "language_info": {
   "codemirror_mode": {
    "name": "ipython",
    "version": 3
   },
   "file_extension": ".py",
   "mimetype": "text/x-python",
   "name": "python",
   "nbconvert_exporter": "python",
   "pygments_lexer": "ipython3",
   "version": "3.8.1"
  }
 },
 "nbformat": 4,
 "nbformat_minor": 5
}
